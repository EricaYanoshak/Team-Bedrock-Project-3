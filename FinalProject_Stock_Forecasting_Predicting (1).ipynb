{
  "nbformat": 4,
  "nbformat_minor": 0,
  "metadata": {
    "colab": {
      "provenance": []
    },
    "kernelspec": {
      "name": "python3",
      "display_name": "Python 3"
    },
    "language_info": {
      "name": "python"
    }
  },
  "cells": [
    {
      "cell_type": "code",
      "execution_count": null,
      "metadata": {
        "id": "KWWz0Y72tCp1"
      },
      "outputs": [],
      "source": [
        "#Data fetching;\n",
        "\n",
        "# Importing libraries for data manipulation and analysis\n",
        "import numpy as np  # for numerical computations\n",
        "import pandas as pd  # for data manipulation and analysis\n",
        "import matplotlib.pyplot as plt  # for plotting visualizations\n",
        "import seaborn as sns  # for data visualization (heatmaps, correlation matrices)\n",
        "import yfinance as yf # data on stocks using yahoo finance source\n",
        "\n",
        "\n"
      ]
    },
    {
      "cell_type": "code",
      "source": [
        "# Import scikit-learn for ML methodologies\n",
        "from sklearn.model_selection import train_test_split  # for splitting data into training and testing sets\n",
        "from sklearn.preprocessing import StandardScaler  # for normalizing or scaling features\n",
        "from sklearn.metrics import accuracy_score, classification_report, confusion_matrix  # for evaluating model performance\n",
        "\n"
      ],
      "metadata": {
        "id": "UrodtRRWxhL7"
      },
      "execution_count": null,
      "outputs": []
    },
    {
      "cell_type": "code",
      "source": [
        "# Import deep learning libraries for building models\n",
        "import tensorflow as tf  # for deep learning model building (TensorFlow)\n",
        "from tensorflow import keras  # for neural network modeling (Keras)\n",
        "\n",
        "\n"
      ],
      "metadata": {
        "id": "q4oHJ_pnxi9u"
      },
      "execution_count": null,
      "outputs": []
    },
    {
      "cell_type": "code",
      "source": [
        "# Import Hugging Face transformers for NLP and transformer models\n",
        "from transformers import pipeline, AutoTokenizer, TFAutoModelForSequenceClassification  # for transformer-based NLP tasks\n",
        "\n"
      ],
      "metadata": {
        "id": "erNEHJtXxk0u"
      },
      "execution_count": null,
      "outputs": []
    },
    {
      "cell_type": "code",
      "source": [
        "# Import NLP tools\n",
        "import spacy  # for advanced natural language processing tasks (spaCy)\n",
        "import nltk  # for tokenization, stop words, etc. (Natural Language Toolkit - NLTK)\n",
        "nltk.download('punkt')  # download dataset for tokenization\n",
        "\n"
      ],
      "metadata": {
        "id": "2pj8KqsIxmMi"
      },
      "execution_count": null,
      "outputs": []
    },
    {
      "cell_type": "code",
      "source": [
        "# Import VADER for sentiment analysis (new technology not covered in class)\n",
        "from vaderSentiment.vaderSentiment import SentimentIntensityAnalyzer  # for sentiment analysis of text\n",
        "\n"
      ],
      "metadata": {
        "id": "mI8oSXopy_0H"
      },
      "execution_count": null,
      "outputs": []
    },
    {
      "cell_type": "code",
      "source": [
        "# Optional: Import additional libraries for new technology (e.g., OpenAI's GPT-4, DALL·E)\n",
        "import openai  # if using OpenAI's GPT models or other capabilities like DALL·E or Whisper\n"
      ],
      "metadata": {
        "id": "CYvF5vD6zBqX"
      },
      "execution_count": null,
      "outputs": []
    },
    {
      "cell_type": "code",
      "source": [
        "# Other utilities (optional)\n",
        "import requests  # for API requests (if you're fetching data from web APIs)"
      ],
      "metadata": {
        "id": "G-CCz551zCtC"
      },
      "execution_count": null,
      "outputs": []
    },
    {
      "cell_type": "code",
      "source": [
        "#Data Sources:\n",
        "#Historical Stock Data:\n",
        "#This data will be used for both equity trading analysis and deep learning forecasting.\n",
        "# Defining the list of stock tickers for Microsft, Google, and Tesla.\n",
        "tickers = ['MSFT', 'GOOG', 'TSLA']"
      ],
      "metadata": {
        "id": "Hg_0hc0qzEZb"
      },
      "execution_count": null,
      "outputs": []
    },
    {
      "cell_type": "code",
      "source": [],
      "metadata": {
        "id": "vOjHZZrp0U84"
      },
      "execution_count": null,
      "outputs": []
    },
    {
      "cell_type": "code",
      "source": [
        "#Data exploration;\n",
        "\n",
        "\n"
      ],
      "metadata": {
        "id": "lDfPZNAztqHn"
      },
      "execution_count": null,
      "outputs": []
    },
    {
      "cell_type": "code",
      "source": [
        "#Data transformation;\n",
        "\n"
      ],
      "metadata": {
        "id": "yG1xEaACtsW5"
      },
      "execution_count": null,
      "outputs": []
    },
    {
      "cell_type": "code",
      "source": [
        "#Data analysis;\n",
        "\n"
      ],
      "metadata": {
        "id": "wNd6wfCxtuC-"
      },
      "execution_count": null,
      "outputs": []
    },
    {
      "cell_type": "code",
      "source": [
        "#Data cleaning and preprocessing\n",
        "\n"
      ],
      "metadata": {
        "id": "Z7407Z7Utvv3"
      },
      "execution_count": null,
      "outputs": []
    },
    {
      "cell_type": "code",
      "source": [
        "#Testing ML models;\n",
        "\n"
      ],
      "metadata": {
        "id": "iBegRH4rtw77"
      },
      "execution_count": null,
      "outputs": []
    },
    {
      "cell_type": "code",
      "source": [
        "#Integrate AI tools into the project for deployment"
      ],
      "metadata": {
        "id": "VMAQ7EDgtyjm"
      },
      "execution_count": null,
      "outputs": []
    }
  ]
}