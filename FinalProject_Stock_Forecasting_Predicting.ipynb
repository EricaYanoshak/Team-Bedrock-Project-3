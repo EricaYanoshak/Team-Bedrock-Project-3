{
  "cells": [
    {
      "cell_type": "code",
      "execution_count": null,
      "metadata": {
        "id": "KWWz0Y72tCp1"
      },
      "outputs": [],
      "source": [
        "#Data fetching;\n"
      ]
    },
    {
      "cell_type": "code",
      "execution_count": null,
      "metadata": {
        "id": "lDfPZNAztqHn"
      },
      "outputs": [],
      "source": [
        "#Data exploration;\n",
        "\n",
        "\n"
      ]
    },
    {
      "cell_type": "code",
      "execution_count": null,
      "metadata": {
        "id": "yG1xEaACtsW5"
      },
      "outputs": [],
      "source": [
        "#Data transformation;\n",
        "\n"
      ]
    },
    {
      "cell_type": "code",
      "execution_count": null,
      "metadata": {
        "id": "wNd6wfCxtuC-"
      },
      "outputs": [],
      "source": [
        "#Data analysis;\n",
        "\n"
      ]
    },
    {
      "cell_type": "code",
      "execution_count": null,
      "metadata": {
        "id": "Z7407Z7Utvv3"
      },
      "outputs": [],
      "source": [
        "#Data cleaning and preprocessing\n",
        "\n"
      ]
    },
    {
      "cell_type": "code",
      "execution_count": null,
      "metadata": {
        "id": "iBegRH4rtw77"
      },
      "outputs": [],
      "source": [
        "#Testing ML models;\n",
        "\n"
      ]
    },
    {
      "cell_type": "code",
      "execution_count": null,
      "metadata": {
        "id": "VMAQ7EDgtyjm"
      },
      "outputs": [],
      "source": [
        "#Integrate AI tools into the project for deployment"
      ]
    }
  ],
  "metadata": {
    "colab": {
      "provenance": []
    },
    "kernelspec": {
      "display_name": "Python 3",
      "name": "python3"
    },
    "language_info": {
      "name": "python"
    }
  },
  "nbformat": 4,
  "nbformat_minor": 0
}
